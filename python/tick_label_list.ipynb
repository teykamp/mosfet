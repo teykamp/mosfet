{
 "cells": [
  {
   "cell_type": "code",
   "execution_count": 180,
   "metadata": {},
   "outputs": [],
   "source": [
    "import numpy as np"
   ]
  },
  {
   "cell_type": "code",
   "execution_count": 181,
   "metadata": {},
   "outputs": [
    {
     "name": "stdout",
     "output_type": "stream",
     "text": [
      "All tests passed!\n"
     ]
    }
   ],
   "source": [
    "def get_next_round_multiple(n, increment):\n",
    "    \"\"\"Given a number `n` and an `increment`, find the largest multiple of `increment` which is just smaller than `n`.\n",
    "    For example, if `n = 9` and `increment = 4`, the result should be the largest multiple of 4 which does not exeed 9, which is 8.\n",
    "    \"\"\"\n",
    "    return np.floor(n / increment) * increment\n",
    "\n",
    "assert get_next_round_multiple(9, 4) == 8\n",
    "assert get_next_round_multiple(567, 100) == 500\n",
    "assert get_next_round_multiple(2.34, 0.5) == 2\n",
    "assert get_next_round_multiple(1, 1) == 1\n",
    "print(\"All tests passed!\")"
   ]
  },
  {
   "cell_type": "markdown",
   "metadata": {},
   "source": [
    "## Linear ticks logic"
   ]
  },
  {
   "cell_type": "code",
   "execution_count": 182,
   "metadata": {},
   "outputs": [],
   "source": [
    "def tick_label_list(lower_bound, upper_bound):\n",
    "\n",
    "    difference = upper_bound - lower_bound # if logarithmic, use division instead of subtraction\n",
    "\n",
    "    tick_spacing = 10 ** np.floor(np.log10(difference))\n",
    "    n_ticks = int(difference / tick_spacing)\n",
    "    print(f\"{n_ticks = }\")\n",
    "\n",
    "    # adjust the tick spacing up or down to get within the desired range of ticks\n",
    "    if n_ticks >= 6:\n",
    "        print(\"increasing tick spacing\")\n",
    "        tick_spacing = tick_spacing * 2\n",
    "    elif n_ticks <= 2:\n",
    "        print(\"decreasing tick spacing\")\n",
    "        tick_spacing = tick_spacing / 2\n",
    "    else:\n",
    "        print(\"leaving tick spacing the same\")\n",
    "\n",
    "    starting_tick = get_next_round_multiple(lower_bound, tick_spacing)\n",
    "    next_tick = starting_tick\n",
    "    i = 0\n",
    "    ticks = []\n",
    "    while next_tick <= upper_bound:\n",
    "        ticks.append(next_tick)\n",
    "        next_tick = next_tick + tick_spacing\n",
    "    ticks.append(next_tick) # one more time\n",
    "\n",
    "    print(f\"total number of ticks: {len(ticks)}\")\n",
    "    return ticks"
   ]
  },
  {
   "cell_type": "code",
   "execution_count": 183,
   "metadata": {},
   "outputs": [
    {
     "name": "stdout",
     "output_type": "stream",
     "text": [
      "n_ticks = 3\n",
      "leaving tick spacing the same\n",
      "total number of ticks: 5\n",
      "ticks = [0.0, 10.0, 20.0, 30.0, 40.0]\n",
      "\n",
      "n_ticks = 2\n",
      "decreasing tick spacing\n",
      "total number of ticks: 8\n",
      "ticks = [0.0, 5.0, 10.0, 15.0, 20.0, 25.0, 30.0, 35.0]\n",
      "\n",
      "n_ticks = 9\n",
      "increasing tick spacing\n",
      "total number of ticks: 7\n",
      "ticks = [0.0, 20.0, 40.0, 60.0, 80.0, 100.0, 120.0]\n",
      "\n",
      "n_ticks = 1\n",
      "decreasing tick spacing\n",
      "total number of ticks: 4\n",
      "ticks = [0.0, 50.0, 100.0, 150.0]\n",
      "\n",
      "n_ticks = 5\n",
      "leaving tick spacing the same\n",
      "total number of ticks: 7\n",
      "ticks = [500.0, 510.0, 520.0, 530.0, 540.0, 550.0, 560.0]\n",
      "\n",
      "n_ticks = 1\n",
      "decreasing tick spacing\n",
      "total number of ticks: 4\n",
      "ticks = [0.2, 0.25, 0.3, 0.35]\n",
      "\n",
      "n_ticks = 3\n",
      "leaving tick spacing the same\n",
      "total number of ticks: 5\n",
      "ticks = [2690.0, 2700.0, 2710.0, 2720.0, 2730.0]\n"
     ]
    }
   ],
   "source": [
    "print(f\"ticks = {tick_label_list(3, 35)}\")\n",
    "print()\n",
    "print(f\"ticks = {tick_label_list(3, 32)}\")\n",
    "print()\n",
    "print(f\"ticks = {tick_label_list(3, 100)}\")\n",
    "print()\n",
    "print(f\"ticks = {tick_label_list(0, 100)}\")\n",
    "print()\n",
    "print(f\"ticks = {tick_label_list(500, 550)}\")\n",
    "print()\n",
    "print(f\"ticks = {tick_label_list(0.2, 0.31)}\")\n",
    "print()\n",
    "print(f\"ticks = {tick_label_list(2690, 2720)}\")"
   ]
  },
  {
   "cell_type": "markdown",
   "metadata": {},
   "source": [
    "## Logarithmic ticks logic"
   ]
  },
  {
   "cell_type": "code",
   "execution_count": 184,
   "metadata": {},
   "outputs": [],
   "source": [
    "def unconvert_log(n):\n",
    "    if np.abs(np.round(n) - n) < 0.1:\n",
    "        return 10 ** np.round(n)\n",
    "    # else:\n",
    "    return 5 * 10 ** np.floor(n)\n",
    "\n",
    "def tick_label_list_log(lower_bound, upper_bound):\n",
    "\n",
    "    log_lower_bound = np.log10(lower_bound)\n",
    "    log_upper_bound = np.log10(upper_bound)\n",
    "\n",
    "    difference = log_upper_bound - log_lower_bound # if logarithmic, use division instead of subtraction\n",
    "    if difference < 1:\n",
    "        print(\"Resorting to linear\")\n",
    "        return tick_label_list(lower_bound, upper_bound)\n",
    "\n",
    "    tick_spacing = 10 ** np.floor(np.log10(difference))\n",
    "    n_ticks = int(difference / tick_spacing)\n",
    "    print(f\"{n_ticks = }\")\n",
    "\n",
    "    # adjust the tick spacing up or down to get within the desired range of ticks\n",
    "    if n_ticks >= 6:\n",
    "        print(\"increasing tick spacing\")\n",
    "        tick_spacing = tick_spacing * 2\n",
    "    elif n_ticks <= 2:\n",
    "        print(\"decreasing tick spacing\")\n",
    "        tick_spacing = tick_spacing / 2\n",
    "    else:\n",
    "        print(\"leaving tick spacing the same\")\n",
    "\n",
    "    starting_tick = get_next_round_multiple(log_lower_bound, tick_spacing)\n",
    "    next_tick = starting_tick\n",
    "    i = 0\n",
    "    ticks = []\n",
    "    while next_tick < log_upper_bound:\n",
    "        ticks.append(unconvert_log(next_tick))\n",
    "        next_tick = next_tick + tick_spacing\n",
    "    ticks.append(unconvert_log(next_tick)) # one more time\n",
    "\n",
    "    print(f\"total number of ticks: {len(ticks)}\")\n",
    "    return ticks"
   ]
  },
  {
   "cell_type": "code",
   "execution_count": 187,
   "metadata": {},
   "outputs": [
    {
     "name": "stdout",
     "output_type": "stream",
     "text": [
      "n_ticks = 8\n",
      "increasing tick spacing\n",
      "total number of ticks: 5\n",
      "ticks = [1.0, 100.0, 10000.0, 1000000.0, 100000000.0]\n",
      "\n",
      "n_ticks = 1\n",
      "decreasing tick spacing\n",
      "total number of ticks: 5\n",
      "ticks = [1.0, 5.0, 10.0, 50.0, 100.0]\n",
      "\n",
      "n_ticks = 1\n",
      "decreasing tick spacing\n",
      "total number of ticks: 5\n",
      "ticks = [1.0, 5.0, 10.0, 50.0, 100.0]\n",
      "\n",
      "n_ticks = 1\n",
      "decreasing tick spacing\n",
      "total number of ticks: 5\n",
      "ticks = [1.0, 5.0, 10.0, 50.0, 100.0]\n",
      "\n",
      "n_ticks = 3\n",
      "leaving tick spacing the same\n",
      "total number of ticks: 4\n",
      "ticks = [0.1, 1.0, 10.0, 100.0]\n",
      "\n",
      "Resorting to linear\n",
      "n_ticks = 5\n",
      "leaving tick spacing the same\n",
      "total number of ticks: 7\n",
      "ticks = [500.0, 510.0, 520.0, 530.0, 540.0, 550.0, 560.0]\n",
      "\n",
      "Resorting to linear\n",
      "n_ticks = 1\n",
      "decreasing tick spacing\n",
      "total number of ticks: 4\n",
      "ticks = [0.2, 0.25, 0.3, 0.35]\n",
      "\n",
      "Resorting to linear\n",
      "n_ticks = 3\n",
      "leaving tick spacing the same\n",
      "total number of ticks: 5\n",
      "ticks = [2690.0, 2700.0, 2710.0, 2720.0, 2730.0]\n",
      "\n",
      "Resorting to linear\n",
      "n_ticks = 1\n",
      "decreasing tick spacing\n",
      "total number of ticks: 6\n",
      "ticks = [0.1, 0.15000000000000002, 0.2, 0.25, 0.3, 0.35]\n",
      "\n",
      "n_ticks = 1\n",
      "decreasing tick spacing\n",
      "total number of ticks: 3\n",
      "ticks = [0.1, 0.5, 1.0]\n",
      "\n",
      "n_ticks = 1\n",
      "decreasing tick spacing\n",
      "total number of ticks: 5\n",
      "ticks = [0.05, 0.1, 0.5, 1.0, 5.0]\n"
     ]
    }
   ],
   "source": [
    "print(f\"ticks = {tick_label_list_log(1, 1e8)}\")\n",
    "print()\n",
    "print(f\"ticks = {tick_label_list_log(3, 35)}\")\n",
    "print()\n",
    "print(f\"ticks = {tick_label_list_log(3, 32)}\")\n",
    "print()\n",
    "print(f\"ticks = {tick_label_list_log(3, 100)}\")\n",
    "print()\n",
    "print(f\"ticks = {tick_label_list_log(0.1, 100)}\")\n",
    "print()\n",
    "print(f\"ticks = {tick_label_list_log(500, 550)}\")\n",
    "print()\n",
    "print(f\"ticks = {tick_label_list_log(0.2, 0.31)}\")\n",
    "print()\n",
    "print(f\"ticks = {tick_label_list_log(2690, 2720)}\")\n",
    "print()\n",
    "print(f\"ticks = {tick_label_list_log(0.1, 0.3)}\")\n",
    "print()\n",
    "print(f\"ticks = {tick_label_list_log(0.1, 1.0)}\")\n",
    "print()\n",
    "print(f\"ticks = {tick_label_list_log(0.09, 1.05)}\")"
   ]
  }
 ],
 "metadata": {
  "kernelspec": {
   "display_name": "Python 3",
   "language": "python",
   "name": "python3"
  },
  "language_info": {
   "codemirror_mode": {
    "name": "ipython",
    "version": 3
   },
   "file_extension": ".py",
   "mimetype": "text/x-python",
   "name": "python",
   "nbconvert_exporter": "python",
   "pygments_lexer": "ipython3",
   "version": "3.10.5"
  }
 },
 "nbformat": 4,
 "nbformat_minor": 2
}
